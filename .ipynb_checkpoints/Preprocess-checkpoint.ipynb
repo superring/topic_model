{
 "cells": [
  {
   "cell_type": "code",
   "execution_count": 49,
   "id": "064e3a95",
   "metadata": {},
   "outputs": [],
   "source": [
    "def get_data(dataFile):\n",
    "    # ファイルからブログ本文を抽出\n",
    "    texts = {}\n",
    "\n",
    "    with open(dataFile, 'r', encoding='utf-8') as f:\n",
    "        # Kyoto.tsvファイルを読み込み\n",
    "        kyoto_tsv = f.read()\n",
    "\n",
    "        # 記事毎に本文を抽出する\n",
    "        for line in kyoto_tsv.split('\\n'):\n",
    "            if line == '':\n",
    "                break\n",
    "\n",
    "            # データファイルは1行1文となっており、各行は以下のようにタブ区切りされている\n",
    "            # KN203_Kyoto_1-1-2-01 最近、鴨川沿いを歩くことにはまってます☆    [著者]    鴨川沿いを歩くことにはまってます    採否＋   鴨川沿いを歩くこと\n",
    "            columns = line.split('\\t')\n",
    "            # 各行の1番目のカラムにはKNxxx(記事ID)が付与されているので、記事ID毎に本文(2番目のカラム)を連結する\n",
    "            # なお3番目以降のカラムはアノテーションで、今回は使用しないため、読み捨てる\n",
    "            index = columns[0].split('_')[0]\n",
    "            if not index in texts:\n",
    "                # \n",
    "                texts[index] = columns[1].replace('］', '\\t').replace('［', '') + '\\t'\n",
    "            else:\n",
    "                texts[index] = texts[index] + columns[1]\n",
    "    return texts"
   ]
  },
  {
   "cell_type": "code",
   "execution_count": 50,
   "id": "5999d962",
   "metadata": {},
   "outputs": [],
   "source": [
    "text_kyoto = get_data('./original/Kyoto.tsv')\n",
    "text_gourmet = get_data('./original/Gourmet.tsv')\n",
    "text_keitai = get_data('./original/Keitai.tsv')\n",
    "text_sports = get_data('./original/Sports.tsv')"
   ]
  },
  {
   "cell_type": "code",
   "execution_count": 51,
   "id": "e084d635",
   "metadata": {},
   "outputs": [],
   "source": [
    "data = list(text_kyoto.values()) + \\\n",
    "        list(text_gourmet.values()) + \\\n",
    "        list(text_keitai.values()) + \\\n",
    "        list(text_sports.values())"
   ]
  },
  {
   "cell_type": "code",
   "execution_count": 56,
   "id": "66bc8b01",
   "metadata": {},
   "outputs": [],
   "source": [
    "with open('./labeled/labeled_data.tsv', 'w', encoding='utf-8') as file:\n",
    "    for text in data:\n",
    "        file.write(text + '\\n')"
   ]
  },
  {
   "cell_type": "code",
   "execution_count": 57,
   "id": "a2317164",
   "metadata": {},
   "outputs": [],
   "source": [
    "with open('./input/input_data.tsv', 'w', encoding='utf-8') as file:\n",
    "    for text in data:\n",
    "        file.write(text.split('\\t')[2] + '\\n')"
   ]
  }
 ],
 "metadata": {
  "kernelspec": {
   "display_name": "Python 3",
   "language": "python",
   "name": "python3"
  },
  "language_info": {
   "codemirror_mode": {
    "name": "ipython",
    "version": 3
   },
   "file_extension": ".py",
   "mimetype": "text/x-python",
   "name": "python",
   "nbconvert_exporter": "python",
   "pygments_lexer": "ipython3",
   "version": "3.9.4"
  }
 },
 "nbformat": 4,
 "nbformat_minor": 5
}
